{
 "cells": [
  {
   "attachments": {},
   "cell_type": "markdown",
   "metadata": {},
   "source": [
    "```\n",
    "                            (#%(//***,.                                         \n",
    "                          %@&&&&&&&&%&&&&&&#                                    \n",
    "                       ,@@@@@&&%#(/*,,*(#%&&@&. ,#%&&&&&@&&#,                   \n",
    "                      %&@@@@&&%(*,.....,*(#%&&@&&@@@@@&%&&@@@@@@@&              \n",
    "                     /%@&@@@&%%(/******/(##%&&@@&@@&#((////(((#%&@@@@           \n",
    "            /&@@@@@@&%@@@&@@&%%###(((#%%%&&&&&&&##%&#///*/(&@@@&%%&@@@#         \n",
    "        (@@@@&/@@@@@@@@#%@@@@&&%%%%*/#&%#%&&&@@@@@@&#//&%                       \n",
    "      @@@&&((##(%&@@@@@@&%@%@&@(%#%%%%%%,./(/.(/&((&@.                          \n",
    "    &@@%//***,****(#%&@@@@@@@@%&*/#/.*(///*,//.#%%,&                            \n",
    "   &@@(/**,,,,,,,,,,/&&@@@@@@@@&. ((/  /#%####%&&&(&                            \n",
    "  &@@#(#%@@@&*        %@@@@@@@@&*#%&/%((((%&&%%&&@@&                            \n",
    " .@@@@@                   (#&&&&@@@@&&&//,,,(/(##/                             ,\n",
    " .@&                      %@@&&(%(,*(/,..*(#/(%#((#%(.                       ,.@\n",
    "  .                   .(&%&@@@&%##**(#@/,  %@%%@#/#,%&&&                    ,.@@\n",
    "                  *%&@@&(/#%&@&@@@#(.. .,,*/*&@@@///,%%&@%                 ,.@@@\n",
    "                &@@@&&&%&@*,(#@@&@@@@@@(. ,&@&%@@&(,%,&&@@/              .,(@@@@\n",
    "               &@@%%(/#%&@@,,*(%@%@@@@@@@&##/(%&&%&#/#&@@@&           ..*.@@@@@@\n",
    "               @@@&%%%&&&@@@,%,&%&&&@@&%((&(%&@@@@%@#&&&&&@&.        ..*,@@@@@@@\n",
    "               #@@@&%(((%&&@%#,(%%@@&@&%*@@@@@@@@@@@%@&&/(#&&*...  ...*,@@@@@@@@\n",
    "               .%&&&(  ,(%&&@&*(&&&&&%/,&@&(@@&%&@@@&@@@&**#&&&,. ../*(@@@@@@@@&\n",
    "         .......%&@@@&&&@@@@@&/&&&%%#/(&@&(%%@%%%%@&@&&@@&&./#%%* ./*&@@@@@@@@@@\n",
    "##############(,*@@&&&&&&&@@@&&@@@@&#*#&&@&#%&%%#%%%@@&%@&&&#,(%&%*/@@@@@@@@@@@@\n",
    "##############(*.@@@%%#&&&@@@&@&%#(*#&@&#(#&&%&&##(,%&&&%%&@&&&@%/&@@@@@@@@@@@@@\n",
    "((##########(((/.%@@@#(#%&&@&&&%(*,(#%%&&(%#%#%&%#(,.#%&@@&@(,,%*#@@@@@@@@@@@@@@\n",
    "//(##########(,...@@@@@&&%@@&&%#((#%&&&%&%%&%%%&&%    ##%&@@@@/*&%@@@@@@@@@@@@@@\n",
    "(###########((/,,.(@@@&/,(@&&&&%%&&&&&%%&&&%%%%&&........%%%%**@@@@@@@@&@@@@@@@@\n",
    "###(,,,,*/(((((*,(%@@@@@@@@&&&&&&&@&%/&&%#%%%%&&#./#(*//(((%*/@@@@@@@@@@@@@@@@@@\n",
    ",*###(((((((((((#&&@@&@@@@&@@&&@@&&(&#**,**,,,********//((%*#@@@@@@@@@@@@@@@@@@@\n",
    "///////////////(#%&&@@&@@@@@@@@@&(**,*,,,,,,,,,*%//%##(##(*&@@@@@@@@@@@@@@@@@@@@\n",
    "///////////////////(##%&@@@@@@@&%******&/(##%###########/*@@@@@@@@@@@@@@@@@@@@@@\n",
    "////////////////////((#%%%%&@@@&&#,(/#%*,*/*.&%########//@@@@@@@@@@@@@@@@@@@@@@&\n",
    "%%(*/////////////////////(///////#@@@@@@@@/(%*,*/(.,&&*(@@@@@@@@@@@@@@@@@@@@@@(/\n",
    "```\n",
    "# Goblin Mode"
   ]
  },
  {
   "cell_type": "code",
   "execution_count": 1,
   "metadata": {},
   "outputs": [],
   "source": [
    "%matplotlib inline\n",
    "%load_ext autoreload\n",
    "%autoreload 2"
   ]
  },
  {
   "cell_type": "code",
   "execution_count": 52,
   "metadata": {},
   "outputs": [],
   "source": [
    "import os\n",
    "import cv2\n",
    "import copy\n",
    "import json\n",
    "import math\n",
    "import torch\n",
    "import torch.nn as nn\n",
    "import torch.optim as optim\n",
    "import numpy as np\n",
    "import mediapipe as mp\n",
    "from tqdm import tqdm\n",
    "import matplotlib.pyplot as plt\n",
    "from torch.nn.functional import one_hot\n",
    "\n",
    "from time import time\n",
    "from IPython.display import clear_output\n",
    "\n",
    "from fnn import PoseFFNN\n",
    "from helper import plot, get_pose_names\n",
    "from dataloader.dataloader import load_data, PoseLoader"
   ]
  },
  {
   "cell_type": "code",
   "execution_count": null,
   "metadata": {},
   "outputs": [],
   "source": [
    "# Initializing mediapipe pose class.\n",
    "mp_pose = mp.solutions.pose\n",
    "\n",
    "# Setting up the Pose function.\n",
    "pose = mp_pose.Pose(static_image_mode=True, min_detection_confidence=0.3, model_complexity=2)\n",
    "\n",
    "# Initializing mediapipe drawing class, useful for annotation.\n",
    "mp_drawing = mp.solutions.drawing_utils "
   ]
  },
  {
   "cell_type": "code",
   "execution_count": 3,
   "metadata": {},
   "outputs": [],
   "source": [
    "poses = get_pose_names()"
   ]
  },
  {
   "cell_type": "code",
   "execution_count": 5,
   "metadata": {},
   "outputs": [],
   "source": [
    "myPath = os.getcwd()\n",
    "\n",
    "myYogaPath = os.path.join(myPath, 'yoga')\n",
    "myRawPath = os.path.join(myPath, 'data', 'raw')\n",
    "myFixedPath = os.path.join(myPath, 'data', 'fixed')\n",
    "\n",
    "myYogaFolders = os.listdir(myYogaPath)\n",
    "myRawFiles = os.listdir(myRawPath)\n",
    "myFixedFiles = os.listdir(myFixedPath)"
   ]
  },
  {
   "cell_type": "code",
   "execution_count": 147,
   "metadata": {},
   "outputs": [],
   "source": [
    "rawTrain, rawVal, rawTest = load_data(myYogaFolders, 'raw')\n",
    "fixedTrain, fixedVal, fixedTest = load_data(myYogaFolders, 'fixed')\n",
    "filteredTrain, filteredVal, filteredTest = load_data(myYogaFolders, 'filtered', 95)\n",
    "\n",
    "train_data = PoseLoader(filteredTrain, 'train', oneHot=True)\n",
    "val_data = PoseLoader(filteredVal, 'val', oneHot=True)\n",
    "test_data = PoseLoader(filteredTest, 'test', oneHot=True)"
   ]
  },
  {
   "cell_type": "code",
   "execution_count": 166,
   "metadata": {},
   "outputs": [],
   "source": [
    "def train(model, train_loader, optimizer, criterion, epochs, batch_size):\n",
    "\n",
    "    device = None\n",
    "    # Check for CUDA availability\n",
    "    if torch.cuda.is_available():\n",
    "        device = 'cuda'\n",
    "    else:\n",
    "        device = 'cpu'\n",
    "\n",
    "    # Set the device for the model\n",
    "    model.to(device)\n",
    "\n",
    "    # Set the model to train mode\n",
    "    model.train()\n",
    "    \n",
    "    totalVals = len(train_loader) * batch_size\n",
    "    totalCorrect = 0\n",
    "    allAccuracy = []\n",
    "    # Loop through the epochs\n",
    "    for epoch in range(epochs):\n",
    "        \n",
    "        thisTotalCorrect = 0\n",
    "\n",
    "        # Loop through the training data\n",
    "        for batch_idx, batch_data in tqdm(enumerate(train_loader)):\n",
    "\n",
    "            # Get the inputs and labels for this batch\n",
    "            # Move input and target tensors to the device (GPU or CPU)\n",
    "            inputs = batch_data['input'].to(device)\n",
    "            targets = batch_data['label'].to(device)\n",
    "\n",
    "            # Zero the gradients\n",
    "            optimizer.zero_grad()\n",
    "\n",
    "            # Forward pass\n",
    "            outputs = model(inputs)\n",
    "\n",
    "            # Calculate the loss\n",
    "            loss = criterion(outputs, targets)\n",
    "\n",
    "            # Backward pass\n",
    "            loss.backward()\n",
    "\n",
    "            # Update the weights\n",
    "            optimizer.step()\n",
    "\n",
    "            # Calculate the accuracy\n",
    "            pred_values = outputs.argmax(dim=1, keepdim=True)\n",
    "            true_values = targets.argmax(dim=1, keepdim=True)\n",
    "\n",
    "            thisTotalCorrect += sum([pred_values[i] == true_values[i] for i in range(len(true_values))])\n",
    "\n",
    "        clear_output(wait=True)\n",
    "        # Divide the total loss and accuracy by the number of training examples to get the average\n",
    "        totalCorrect += thisTotalCorrect\n",
    "        thisAcc = thisTotalCorrect / totalVals\n",
    "        allAccuracy.append(thisAcc)\n",
    "\n",
    "        # plot the accuracies\n",
    "        plt.clf()\n",
    "        plt.plot(range(epoch+1), [acc.cpu().numpy() for acc in allAccuracy])\n",
    "        plt.xlabel('Epoch')\n",
    "        plt.ylabel('Accuracy')\n",
    "        plt.title('Model Accuracy')\n",
    "        plt.show()\n",
    "        print(f'Epoch {epoch + 1}/{epochs} | Training accuracy: {thisAcc.item():.4f}')\n",
    "\n",
    "    return allAccuracy"
   ]
  },
  {
   "cell_type": "code",
   "execution_count": 180,
   "metadata": {},
   "outputs": [],
   "source": [
    "def get_accuracy(model, data, device):\n",
    "\n",
    "    totalVals = len(data)\n",
    "    totalCorrect = 0\n",
    "    for i in range(totalVals):\n",
    "        output = model(val_data[i]['input'].to(device))\n",
    "        prediciton = output.argmax(dim=0, keepdim=True)\n",
    "        correct = val_data[i]['label'].argmax(dim=0, keepdim=True).to(device)\n",
    "        if prediciton == correct:\n",
    "            totalCorrect += 1\n",
    "\n",
    "    return totalCorrect / totalVals"
   ]
  },
  {
   "cell_type": "code",
   "execution_count": 175,
   "metadata": {},
   "outputs": [
    {
     "data": {
      "image/png": "[encoded data removed]",
      "text/plain": [
       "<Figure size 432x288 with 1 Axes>"
      ]
     },
     "metadata": {
      "needs_background": "light"
     },
     "output_type": "display_data"
    },
    {
     "name": "stdout",
     "output_type": "stream",
     "text": [
      "Epoch 100/100 | Training accuracy: 0.8803\n"
     ]
    }
   ],
   "source": [
    "device = None\n",
    "# Check for CUDA availability\n",
    "if torch.cuda.is_available():\n",
    "    device = 'cuda'\n",
    "else:\n",
    "    device = 'cpu'\n",
    "\n",
    "input_dim = len(train_data[0]['input'])\n",
    "output_dim = len(poses)\n",
    "\n",
    "# Define your model\n",
    "model = PoseFFNN(input_dim, output_dim)\n",
    "\n",
    "# Add L2 regularization to the optimizer\n",
    "L2_reg = 0.001\n",
    "\n",
    "# Set up your optimizer\n",
    "optimizer = torch.optim.Adam(model.parameters(), lr=0.005, weight_decay=L2_reg)\n",
    "\n",
    "# Set up your loss function\n",
    "criterion = nn.CrossEntropyLoss()\n",
    "\n",
    "batch_size = 64\n",
    "epocs = 100\n",
    "\n",
    "train_loader = torch.utils.data.DataLoader(train_data, batch_size=batch_size, shuffle=True)\n",
    "train_acc = train(model, train_loader, optimizer, criterion, epocs, batch_size)"
   ]
  },
  {
   "cell_type": "code",
   "execution_count": 181,
   "metadata": {},
   "outputs": [
    {
     "name": "stdout",
     "output_type": "stream",
     "text": [
      "val accuracy : 0.7829991020652499\n",
      "test accuracy : 0.7832779957742227\n"
     ]
    }
   ],
   "source": [
    "print('val accuracy :', get_accuracy(model, val_data, device))\n",
    "print('test accuracy :', get_accuracy(model, test_data, device))"
   ]
  }
 ],
 "metadata": {
  "kernelspec": {
   "display_name": "forMedia",
   "language": "python",
   "name": "python3"
  },
  "language_info": {
   "codemirror_mode": {
    "name": "ipython",
    "version": 3
   },
   "file_extension": ".py",
   "mimetype": "text/x-python",
   "name": "python",
   "nbconvert_exporter": "python",
   "pygments_lexer": "ipython3",
   "version": "3.7.16"
  },
  "orig_nbformat": 4,
  "vscode": {
   "interpreter": {
    "hash": "ca103a73504f546ece912beb0e22110d06c2f833e99fc57d6bf4b25d9b1ae21c"
   }
  }
 },
 "nbformat": 4,
 "nbformat_minor": 2
}
